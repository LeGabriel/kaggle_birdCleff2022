{
 "cells": [
  {
   "cell_type": "code",
   "execution_count": 1,
   "id": "3d7d72f3",
   "metadata": {
    "execution": {
     "iopub.execute_input": "2022-04-11T17:29:33.457494Z",
     "iopub.status.busy": "2022-04-11T17:29:33.456675Z",
     "iopub.status.idle": "2022-04-11T17:30:01.995068Z",
     "shell.execute_reply": "2022-04-11T17:30:01.994416Z",
     "shell.execute_reply.started": "2022-04-11T17:27:45.396894Z"
    },
    "papermill": {
     "duration": 28.560215,
     "end_time": "2022-04-11T17:30:01.995268",
     "exception": false,
     "start_time": "2022-04-11T17:29:33.435053",
     "status": "completed"
    },
    "tags": []
   },
   "outputs": [
    {
     "name": "stdout",
     "output_type": "stream",
     "text": [
      "Processing /kaggle/input/dataset-private/SoundFile-0.10.3.post1-py2.py3-none-any.whl\r\n",
      "Requirement already satisfied: cffi>=1.0 in /opt/conda/lib/python3.7/site-packages (from SoundFile==0.10.3.post1) (1.15.0)\r\n",
      "Requirement already satisfied: pycparser in /opt/conda/lib/python3.7/site-packages (from cffi>=1.0->SoundFile==0.10.3.post1) (2.21)\r\n",
      "SoundFile is already installed with the same version as the provided wheel. Use --force-reinstall to force an installation of the wheel.\r\n",
      "\u001b[33mWARNING: Running pip as the 'root' user can result in broken permissions and conflicting behaviour with the system package manager. It is recommended to use a virtual environment instead: https://pip.pypa.io/warnings/venv\u001b[0m\r\n"
     ]
    }
   ],
   "source": [
    "!pip install ../input/dataset-private/SoundFile-0.10.3.post1-py2.py3-none-any.whl"
   ]
  },
  {
   "cell_type": "code",
   "execution_count": 2,
   "id": "41dc9b00",
   "metadata": {
    "execution": {
     "iopub.execute_input": "2022-04-11T17:30:02.030247Z",
     "iopub.status.busy": "2022-04-11T17:30:02.026192Z",
     "iopub.status.idle": "2022-04-11T17:30:30.957954Z",
     "shell.execute_reply": "2022-04-11T17:30:30.956880Z",
     "shell.execute_reply.started": "2022-04-11T17:28:13.936760Z"
    },
    "papermill": {
     "duration": 28.948912,
     "end_time": "2022-04-11T17:30:30.958128",
     "exception": false,
     "start_time": "2022-04-11T17:30:02.009216",
     "status": "completed"
    },
    "tags": []
   },
   "outputs": [
    {
     "name": "stdout",
     "output_type": "stream",
     "text": [
      "Processing /kaggle/input/pythonspeechfeatures/python_speech_features-0.6.tar.gz\r\n",
      "  Preparing metadata (setup.py) ... \u001b[?25l-\b \bdone\r\n",
      "\u001b[?25hBuilding wheels for collected packages: python-speech-features\r\n",
      "  Building wheel for python-speech-features (setup.py) ... \u001b[?25l-\b \b\\\b \bdone\r\n",
      "\u001b[?25h  Created wheel for python-speech-features: filename=python_speech_features-0.6-py3-none-any.whl size=5888 sha256=8b5dbd7696dc310b7aeaf90d50fe7f30fcba77409c08de35ead5b8daf3002a05\r\n",
      "  Stored in directory: /root/.cache/pip/wheels/1a/a6/4e/e3b90655f091036cc887446ace17cb6cd43760a4ca9e30fda4\r\n",
      "Successfully built python-speech-features\r\n",
      "Installing collected packages: python-speech-features\r\n",
      "Successfully installed python-speech-features-0.6\r\n",
      "\u001b[33mWARNING: Running pip as the 'root' user can result in broken permissions and conflicting behaviour with the system package manager. It is recommended to use a virtual environment instead: https://pip.pypa.io/warnings/venv\u001b[0m\r\n"
     ]
    }
   ],
   "source": [
    "!pip install ../input/pythonspeechfeatures/python_speech_features-0.6.tar.gz"
   ]
  },
  {
   "cell_type": "code",
   "execution_count": 3,
   "id": "c824fa8b",
   "metadata": {
    "execution": {
     "iopub.execute_input": "2022-04-11T17:30:31.017152Z",
     "iopub.status.busy": "2022-04-11T17:30:31.016324Z",
     "iopub.status.idle": "2022-04-11T17:30:37.869299Z",
     "shell.execute_reply": "2022-04-11T17:30:37.869734Z",
     "shell.execute_reply.started": "2022-04-11T17:28:42.687018Z"
    },
    "papermill": {
     "duration": 6.883869,
     "end_time": "2022-04-11T17:30:37.869921",
     "exception": false,
     "start_time": "2022-04-11T17:30:30.986052",
     "status": "completed"
    },
    "tags": []
   },
   "outputs": [],
   "source": [
    "import os\n",
    "import json\n",
    "import pickle\n",
    "\n",
    "from tqdm import tqdm\n",
    "\n",
    "import numpy as np\n",
    "import pandas as pd\n",
    "\n",
    "from python_speech_features import fbank\n",
    "import soundfile\n",
    "\n",
    "import torch\n",
    "\n",
    "import tensorflow as tf\n",
    "from tensorflow.keras import layers\n",
    "from tensorflow.keras.models import model_from_config"
   ]
  },
  {
   "cell_type": "markdown",
   "id": "2bbbf904",
   "metadata": {
    "papermill": {
     "duration": 0.014326,
     "end_time": "2022-04-11T17:30:37.899678",
     "exception": false,
     "start_time": "2022-04-11T17:30:37.885352",
     "status": "completed"
    },
    "tags": []
   },
   "source": [
    "# GET FILES"
   ]
  },
  {
   "cell_type": "code",
   "execution_count": 4,
   "id": "4c218ef9",
   "metadata": {
    "execution": {
     "iopub.execute_input": "2022-04-11T17:30:37.933727Z",
     "iopub.status.busy": "2022-04-11T17:30:37.933149Z",
     "iopub.status.idle": "2022-04-11T17:30:37.937557Z",
     "shell.execute_reply": "2022-04-11T17:30:37.937147Z",
     "shell.execute_reply.started": "2022-04-11T17:28:48.443730Z"
    },
    "papermill": {
     "duration": 0.023216,
     "end_time": "2022-04-11T17:30:37.937666",
     "exception": false,
     "start_time": "2022-04-11T17:30:37.914450",
     "status": "completed"
    },
    "tags": []
   },
   "outputs": [],
   "source": [
    "all_files = []\n",
    "\n",
    "for dirname, _, filenames in os.walk('../input/birdclef-2022/test_soundscapes'):\n",
    "    for filename in filenames:\n",
    "        all_files.append(os.path.join(dirname, filename))"
   ]
  },
  {
   "cell_type": "markdown",
   "id": "106c06b5",
   "metadata": {
    "papermill": {
     "duration": 0.015166,
     "end_time": "2022-04-11T17:30:37.967515",
     "exception": false,
     "start_time": "2022-04-11T17:30:37.952349",
     "status": "completed"
    },
    "tags": []
   },
   "source": [
    "# GET ANSWERS"
   ]
  },
  {
   "cell_type": "code",
   "execution_count": 5,
   "id": "150b0338",
   "metadata": {
    "execution": {
     "iopub.execute_input": "2022-04-11T17:30:38.021706Z",
     "iopub.status.busy": "2022-04-11T17:30:38.019890Z",
     "iopub.status.idle": "2022-04-11T17:30:38.022382Z",
     "shell.execute_reply": "2022-04-11T17:30:38.022851Z",
     "shell.execute_reply.started": "2022-04-11T17:28:48.455981Z"
    },
    "papermill": {
     "duration": 0.04013,
     "end_time": "2022-04-11T17:30:38.023019",
     "exception": false,
     "start_time": "2022-04-11T17:30:37.982889",
     "status": "completed"
    },
    "tags": []
   },
   "outputs": [],
   "source": [
    "def get_audio(filename):\n",
    "    \n",
    "    audio, sr = soundfile.read(filename)\n",
    "    \n",
    "    return audio, sr\n",
    "\n",
    "\n",
    "def get_mels(waveform, sr):\n",
    "    \n",
    "    winlen = 1. / 43.0664 # specRes_Hz from model \n",
    "    winstep = 2.9 / 1000. # tempRes_ms from model\n",
    "    nfft = 1024\n",
    "    preemph = 0.5\n",
    "    low = 0\n",
    "    high = 11025\n",
    "    nfilt = 41\n",
    "    targetSize = 682\n",
    "    \n",
    "    time_stamps = [0, 1, 2, 3, 5, 6, 7, 8, 10, 11, 12, 13, 15, 16, 17, 18, 20, 21, 22, 23, 25, 26, 27, 28, 30, 31, 32, 33, 35, 36, 37, 38, 40, 41, 42, 43, 45, 46, 47, 48, 50, 51, 52, 53, 55, 56, 57, 58]\n",
    "    \n",
    "    features_all = []\n",
    "    \n",
    "    for ts in time_stamps:\n",
    "        \n",
    "        wav = waveform[ts*sr:(ts+2)*sr]\n",
    "    \n",
    "        M, _ = fbank(wav, samplerate=sr,\n",
    "                     nfilt=nfilt, nfft=nfft,\n",
    "                     lowfreq=low, highfreq=high,\n",
    "                     preemph=0.5,\n",
    "                     winlen=winlen, winstep=winstep,\n",
    "                     winfunc=lambda x: np.hanning(x))\n",
    "\n",
    "\n",
    "        logM = np.log(M)\n",
    "        logM = np.swapaxes(logM, 0, 1)\n",
    "\n",
    "        cut = np.minimum(logM.shape[1], targetSize)\n",
    "        background = np.float64(logM[:,:cut]).mean(axis=1)\n",
    "\n",
    "        feature = np.float32(np.float64(logM) - background[:, np.newaxis])\n",
    "\n",
    "        if feature.shape[1] < targetSize:\n",
    "            feature = np.concatenate((feature,\n",
    "                                       np.zeros((feature.shape[0],\n",
    "                                                 targetSize-feature.shape[1]),\n",
    "                                                dtype='float32')), axis=1)\n",
    "        elif feature.shape[1] > targetSize:\n",
    "            feature = feature[:,:(targetSize-feature.shape[1])]\n",
    "\n",
    "        features_all.append(feature)\n",
    "    \n",
    "    \n",
    "    return np.array(features_all)\n",
    "\n",
    "\n",
    "\n",
    "\n",
    "class ModelTF:\n",
    "    \n",
    "    def __init__(self):\n",
    "        model_path = '../input/dataset-private'\n",
    "\n",
    "        model = model_from_config(json.load(open(model_path + '/cmi_mbam01.json', 'r')))\n",
    "        model.load_weights(model_path + '/cmi_mbam01.h5')\n",
    "\n",
    "        feature_layers = [layer.output for layer in model.layers[:-4]]\n",
    "        self.feature_model = tf.keras.Model(inputs=[model.input], outputs=feature_layers)\n",
    "        \n",
    "        \n",
    "    def extract_features(self, mels):\n",
    "        scale = 33.15998\n",
    "        X = mels[:,:40,:] / scale\n",
    "        batch_X = X.reshape(X.shape[0], X.shape[1], X.shape[2], 1)\n",
    "        \n",
    "        features = self.feature_model(batch_X)[-1].numpy()\n",
    "        \n",
    "        return features\n",
    "    \n",
    "\n",
    "    \n",
    "class pytorch_model:\n",
    "    def __init__(self, device):\n",
    "        filename = '../input/pretrained-pytorch/model_pytorch_all.pt'\n",
    "        self.model = torch.jit.load(filename).to(device)\n",
    "        self.device = device\n",
    "    \n",
    "    def prediction(self, features):\n",
    "        \n",
    "        with torch.no_grad():\n",
    "            \n",
    "            x = torch.tensor(features, dtype=torch.float32, device=self.device)\n",
    "            pred = self.model(x)\n",
    "            _, pred = torch.max(pred.data, 1) \n",
    "    \n",
    "        if self.device != 'cpu':\n",
    "            return pred.cpu().numpy()\n",
    "        else:\n",
    "            return pred.numpy()\n",
    "        "
   ]
  },
  {
   "cell_type": "code",
   "execution_count": 6,
   "id": "73ec19c7",
   "metadata": {
    "execution": {
     "iopub.execute_input": "2022-04-11T17:30:38.057741Z",
     "iopub.status.busy": "2022-04-11T17:30:38.057125Z",
     "iopub.status.idle": "2022-04-11T17:30:38.064461Z",
     "shell.execute_reply": "2022-04-11T17:30:38.063957Z",
     "shell.execute_reply.started": "2022-04-11T17:28:48.479993Z"
    },
    "papermill": {
     "duration": 0.026262,
     "end_time": "2022-04-11T17:30:38.064578",
     "exception": false,
     "start_time": "2022-04-11T17:30:38.038316",
     "status": "completed"
    },
    "tags": []
   },
   "outputs": [],
   "source": [
    "def get_dico():\n",
    "            \n",
    "    with open(\"../input/pretrained-pytorch/dico_birds.json\",\"r\") as fp:\n",
    "         dic_birds = json.load(fp)\n",
    "    \n",
    "    return dic_birds\n",
    "\n",
    "\n",
    "dic_birds = get_dico()"
   ]
  },
  {
   "cell_type": "code",
   "execution_count": 7,
   "id": "ad9cff9b",
   "metadata": {
    "execution": {
     "iopub.execute_input": "2022-04-11T17:30:38.154860Z",
     "iopub.status.busy": "2022-04-11T17:30:38.154207Z",
     "iopub.status.idle": "2022-04-11T17:30:50.666841Z",
     "shell.execute_reply": "2022-04-11T17:30:50.666241Z",
     "shell.execute_reply.started": "2022-04-11T17:28:48.497053Z"
    },
    "papermill": {
     "duration": 12.586563,
     "end_time": "2022-04-11T17:30:50.667024",
     "exception": false,
     "start_time": "2022-04-11T17:30:38.080461",
     "status": "completed"
    },
    "tags": []
   },
   "outputs": [
    {
     "name": "stdout",
     "output_type": "stream",
     "text": [
      "cuda:0\n"
     ]
    },
    {
     "name": "stderr",
     "output_type": "stream",
     "text": [
      "2022-04-11 17:30:38.185659: I tensorflow/stream_executor/cuda/cuda_gpu_executor.cc:937] successful NUMA node read from SysFS had negative value (-1), but there must be at least one NUMA node, so returning NUMA node zero\n",
      "2022-04-11 17:30:38.186800: I tensorflow/stream_executor/cuda/cuda_gpu_executor.cc:937] successful NUMA node read from SysFS had negative value (-1), but there must be at least one NUMA node, so returning NUMA node zero\n",
      "2022-04-11 17:30:38.187485: I tensorflow/stream_executor/cuda/cuda_gpu_executor.cc:937] successful NUMA node read from SysFS had negative value (-1), but there must be at least one NUMA node, so returning NUMA node zero\n",
      "2022-04-11 17:30:38.188274: I tensorflow/core/platform/cpu_feature_guard.cc:142] This TensorFlow binary is optimized with oneAPI Deep Neural Network Library (oneDNN) to use the following CPU instructions in performance-critical operations:  AVX2 AVX512F FMA\n",
      "To enable them in other operations, rebuild TensorFlow with the appropriate compiler flags.\n",
      "2022-04-11 17:30:38.189411: I tensorflow/stream_executor/cuda/cuda_gpu_executor.cc:937] successful NUMA node read from SysFS had negative value (-1), but there must be at least one NUMA node, so returning NUMA node zero\n",
      "2022-04-11 17:30:38.190082: I tensorflow/stream_executor/cuda/cuda_gpu_executor.cc:937] successful NUMA node read from SysFS had negative value (-1), but there must be at least one NUMA node, so returning NUMA node zero\n",
      "2022-04-11 17:30:38.190684: I tensorflow/stream_executor/cuda/cuda_gpu_executor.cc:937] successful NUMA node read from SysFS had negative value (-1), but there must be at least one NUMA node, so returning NUMA node zero\n",
      "2022-04-11 17:30:42.853944: I tensorflow/stream_executor/cuda/cuda_gpu_executor.cc:937] successful NUMA node read from SysFS had negative value (-1), but there must be at least one NUMA node, so returning NUMA node zero\n",
      "2022-04-11 17:30:42.854815: I tensorflow/stream_executor/cuda/cuda_gpu_executor.cc:937] successful NUMA node read from SysFS had negative value (-1), but there must be at least one NUMA node, so returning NUMA node zero\n",
      "2022-04-11 17:30:42.855507: I tensorflow/stream_executor/cuda/cuda_gpu_executor.cc:937] successful NUMA node read from SysFS had negative value (-1), but there must be at least one NUMA node, so returning NUMA node zero\n",
      "2022-04-11 17:30:42.856123: I tensorflow/core/common_runtime/gpu/gpu_device.cc:1510] Created device /job:localhost/replica:0/task:0/device:GPU:0 with 14959 MB memory:  -> device: 0, name: Tesla P100-PCIE-16GB, pci bus id: 0000:00:04.0, compute capability: 6.0\n",
      "  0%|          | 0/1 [00:00<?, ?it/s]2022-04-11 17:30:45.305463: I tensorflow/stream_executor/cuda/cuda_dnn.cc:369] Loaded cuDNN version 8005\n",
      "100%|██████████| 1/1 [00:07<00:00,  7.11s/it]\n"
     ]
    }
   ],
   "source": [
    "def get_ans_dict(all_files, dic_birds):\n",
    "    \n",
    "    device = [\"cuda:0\" if torch.cuda.is_available() else \"cpu\"]\n",
    "    if device[0] == 'cpu':\n",
    "        raise 'STOP NOW'\n",
    "    print(device[0])\n",
    "    device = ['cpu']\n",
    "    \n",
    "    model_tf = ModelTF()\n",
    "    model_pytorch = pytorch_model(device=device[0])\n",
    "    \n",
    "    big_dict = {}\n",
    "    \n",
    "    for f in tqdm(all_files):\n",
    "        \n",
    "        key = f.split('/')[-1].split('.ogg')[0]\n",
    "\n",
    "        audio, sr = get_audio(f)\n",
    "        mels = get_mels(audio, sr)\n",
    "        features = model_tf.extract_features(mels)\n",
    "        predictions = model_pytorch.prediction(features)\n",
    "        \n",
    "        end = 5\n",
    "        for i in range(0, 48, 4):\n",
    "            big_dict[key + '_' + str(end)] = [predictions[i], predictions[i+1], predictions[i+2], predictions[i+3]]\n",
    "            end += 5\n",
    "        \n",
    "    \n",
    "    return big_dict\n",
    "    \n",
    "big_dict = get_ans_dict(all_files, dic_birds)"
   ]
  },
  {
   "cell_type": "code",
   "execution_count": 8,
   "id": "fe27ac64",
   "metadata": {
    "execution": {
     "iopub.execute_input": "2022-04-11T17:30:50.705629Z",
     "iopub.status.busy": "2022-04-11T17:30:50.705051Z",
     "iopub.status.idle": "2022-04-11T17:30:50.715384Z",
     "shell.execute_reply": "2022-04-11T17:30:50.714947Z",
     "shell.execute_reply.started": "2022-04-11T17:29:00.224390Z"
    },
    "papermill": {
     "duration": 0.030551,
     "end_time": "2022-04-11T17:30:50.715506",
     "exception": false,
     "start_time": "2022-04-11T17:30:50.684955",
     "status": "completed"
    },
    "tags": []
   },
   "outputs": [],
   "source": [
    "df = pd.read_csv('../input/birdclef-2022/sample_submission.csv')"
   ]
  },
  {
   "cell_type": "code",
   "execution_count": 9,
   "id": "3480a34b",
   "metadata": {
    "execution": {
     "iopub.execute_input": "2022-04-11T17:30:50.761356Z",
     "iopub.status.busy": "2022-04-11T17:30:50.752697Z",
     "iopub.status.idle": "2022-04-11T17:30:50.763869Z",
     "shell.execute_reply": "2022-04-11T17:30:50.763462Z",
     "shell.execute_reply.started": "2022-04-11T17:29:00.242091Z"
    },
    "papermill": {
     "duration": 0.031569,
     "end_time": "2022-04-11T17:30:50.764007",
     "exception": false,
     "start_time": "2022-04-11T17:30:50.732438",
     "status": "completed"
    },
    "tags": []
   },
   "outputs": [],
   "source": [
    "def get_key(s):\n",
    "    liste = s.split('_')\n",
    "    key = liste[0] + '_' + liste[1] + '_' + liste[3]\n",
    "    return key\n",
    "\n",
    "df['key'] = df['row_id'].map(lambda x: get_key(x))\n",
    "\n",
    "def get_target(s):\n",
    "    liste = s.split('_')\n",
    "    target = dic_birds[liste[2]]\n",
    "    return target\n",
    "\n",
    "\n",
    "df['bird'] = df['row_id'].map(lambda x: get_target(x))"
   ]
  },
  {
   "cell_type": "code",
   "execution_count": 10,
   "id": "903d787d",
   "metadata": {
    "execution": {
     "iopub.execute_input": "2022-04-11T17:30:50.800821Z",
     "iopub.status.busy": "2022-04-11T17:30:50.800054Z",
     "iopub.status.idle": "2022-04-11T17:30:50.807501Z",
     "shell.execute_reply": "2022-04-11T17:30:50.807865Z",
     "shell.execute_reply.started": "2022-04-11T17:29:00.258492Z"
    },
    "papermill": {
     "duration": 0.02687,
     "end_time": "2022-04-11T17:30:50.808017",
     "exception": false,
     "start_time": "2022-04-11T17:30:50.781147",
     "status": "completed"
    },
    "tags": []
   },
   "outputs": [
    {
     "name": "stdout",
     "output_type": "stream",
     "text": [
      "TEST SESSION\n"
     ]
    }
   ],
   "source": [
    "keys = df['key'].tolist()\n",
    "birds = df['bird'].tolist()\n",
    "predictions = []\n",
    "\n",
    "if len(df) == 3:\n",
    "    print('TEST SESSION')\n",
    "    big_dict['soundscape_1000170626_5'] = list(big_dict.values())[0]\n",
    "    big_dict['soundscape_1000170626_10'] = list(big_dict.values())[0]\n",
    "    big_dict['soundscape_1000170626_15'] = list(big_dict.values())[0]\n",
    "\n",
    "for i in range(len(keys)):\n",
    "    \n",
    "    b = birds[i]\n",
    "    k = keys[i]\n",
    "    \n",
    "    predictions.append(b in big_dict[k])\n",
    "    "
   ]
  },
  {
   "cell_type": "code",
   "execution_count": 11,
   "id": "d1126f05",
   "metadata": {
    "execution": {
     "iopub.execute_input": "2022-04-11T17:30:50.852721Z",
     "iopub.status.busy": "2022-04-11T17:30:50.852139Z",
     "iopub.status.idle": "2022-04-11T17:30:50.856650Z",
     "shell.execute_reply": "2022-04-11T17:30:50.857053Z",
     "shell.execute_reply.started": "2022-04-11T17:29:00.268108Z"
    },
    "papermill": {
     "duration": 0.030179,
     "end_time": "2022-04-11T17:30:50.857179",
     "exception": false,
     "start_time": "2022-04-11T17:30:50.827000",
     "status": "completed"
    },
    "tags": []
   },
   "outputs": [],
   "source": [
    "df['target'] = predictions\n",
    "df.drop(['bird', 'key'], axis=1, inplace=True)\n",
    "df.to_csv(\"submission.csv\", index=False)"
   ]
  }
 ],
 "metadata": {
  "kernelspec": {
   "display_name": "Python 3",
   "language": "python",
   "name": "python3"
  },
  "language_info": {
   "codemirror_mode": {
    "name": "ipython",
    "version": 3
   },
   "file_extension": ".py",
   "mimetype": "text/x-python",
   "name": "python",
   "nbconvert_exporter": "python",
   "pygments_lexer": "ipython3",
   "version": "3.7.12"
  },
  "papermill": {
   "default_parameters": {},
   "duration": 88.224413,
   "end_time": "2022-04-11T17:30:53.845694",
   "environment_variables": {},
   "exception": null,
   "input_path": "__notebook__.ipynb",
   "output_path": "__notebook__.ipynb",
   "parameters": {},
   "start_time": "2022-04-11T17:29:25.621281",
   "version": "2.3.3"
  }
 },
 "nbformat": 4,
 "nbformat_minor": 5
}
